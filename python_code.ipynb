{
  "nbformat": 4,
  "nbformat_minor": 0,
  "metadata": {
    "colab": {
      "name": "Untitled0.ipynb",
      "provenance": [],
      "authorship_tag": "ABX9TyM8zdNNm/U4ocOenpRFyjkU",
      "include_colab_link": true
    },
    "kernelspec": {
      "name": "python3",
      "display_name": "Python 3"
    }
  },
  "cells": [
    {
      "cell_type": "markdown",
      "metadata": {
        "id": "view-in-github",
        "colab_type": "text"
      },
      "source": [
        "<a href=\"https://colab.research.google.com/github/amitasha/codelicious/blob/master/python_code.ipynb\" target=\"_parent\"><img src=\"https://colab.research.google.com/assets/colab-badge.svg\" alt=\"Open In Colab\"/></a>"
      ]
    },
    {
      "cell_type": "markdown",
      "metadata": {
        "id": "UC1YQSNhF06b",
        "colab_type": "text"
      },
      "source": [
        "List Comprehension"
      ]
    },
    {
      "cell_type": "code",
      "metadata": {
        "id": "mehM6Z7IFQrf",
        "colab_type": "code",
        "colab": {
          "base_uri": "https://localhost:8080/",
          "height": 34
        },
        "outputId": "b43ae920-2e42-4bc7-ed0f-3fdd529a111f"
      },
      "source": [
        "input_list= [1,2,3,4,5,6,7,8,9]\n",
        "\n",
        "output_list=[]\n",
        "\n",
        "#Using loop for constructing output list\n",
        "for var in input_list:\n",
        "  if var % 2==0:\n",
        "    output_list.append(var)\n",
        "print(\"output list using for loop: \", output_list)"
      ],
      "execution_count": 2,
      "outputs": [
        {
          "output_type": "stream",
          "text": [
            "output list using for loop [2, 4, 6, 8]\n"
          ],
          "name": "stdout"
        }
      ]
    },
    {
      "cell_type": "code",
      "metadata": {
        "id": "8c040gVxGslC",
        "colab_type": "code",
        "colab": {
          "base_uri": "https://localhost:8080/",
          "height": 34
        },
        "outputId": "0ede3833-d578-48f2-84d6-bdec3b0c072f"
      },
      "source": [
        "input_list= [1,2,3,4,5,6,7,8,9]\n",
        "\n",
        "list_using_comp = [var for var in input_list if var%2==0]\n",
        "\n",
        "print(\"output list using list comprehension:\", list_using_comp)"
      ],
      "execution_count": 3,
      "outputs": [
        {
          "output_type": "stream",
          "text": [
            "output list using list comprehension: [2, 4, 6, 8]\n"
          ],
          "name": "stdout"
        }
      ]
    },
    {
      "cell_type": "code",
      "metadata": {
        "id": "lOLXTHxbIKla",
        "colab_type": "code",
        "colab": {}
      },
      "source": [
        "#do list comprehension when you want to put 33 in place of 3\n",
        "#for the rest of the odd numbers put 0\n",
        "#so thatthe output is\n",
        "#[8,2,33,4,8,6,8,8,0]\n"
      ],
      "execution_count": null,
      "outputs": []
    }
  ]
}