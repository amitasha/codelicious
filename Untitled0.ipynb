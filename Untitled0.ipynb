{
  "nbformat": 4,
  "nbformat_minor": 0,
  "metadata": {
    "colab": {
      "name": "Untitled0.ipynb",
      "provenance": [],
      "collapsed_sections": [],
      "authorship_tag": "ABX9TyPZaB8giI4snxq0siEWu1QI",
      "include_colab_link": true
    },
    "kernelspec": {
      "name": "python3",
      "display_name": "Python 3"
    }
  },
  "cells": [
    {
      "cell_type": "markdown",
      "metadata": {
        "id": "view-in-github",
        "colab_type": "text"
      },
      "source": [
        "<a href=\"https://colab.research.google.com/github/amitasha/codelicious/blob/master/Untitled0.ipynb\" target=\"_parent\"><img src=\"https://colab.research.google.com/assets/colab-badge.svg\" alt=\"Open In Colab\"/></a>"
      ]
    },
    {
      "cell_type": "markdown",
      "metadata": {
        "id": "UC1YQSNhF06b",
        "colab_type": "text"
      },
      "source": [
        "List Comprehension"
      ]
    },
    {
      "cell_type": "code",
      "metadata": {
        "id": "mehM6Z7IFQrf",
        "colab_type": "code",
        "colab": {
          "base_uri": "https://localhost:8080/",
          "height": 238
        },
        "outputId": "4f6b8606-d41f-41e2-9c0a-e4409108db5b"
      },
      "source": [
        "input_list= [1,2,3,4,5,6,7,8,9]\n",
        "\n",
        "output_list=[]\n",
        "\n",
        "#Using loop for constructing output list\n",
        "for var in input_list:\n",
        "  if var % 2==0:\n",
        "    output_list.append(var)\n",
        "\n",
        "ml = []\n",
        "for i in range(5):\n",
        "  if i < 2:\n",
        "    ml.append(1)\n",
        "print(ml)\n",
        "\n",
        "#while loop \n",
        "i = 0\n",
        "while i < 5:\n",
        "  print(i)\n",
        "  i = i + 1\n",
        "#for loop\n",
        "for i in range(5):\n",
        "  print(i)\n",
        "#if \n",
        "if 1 in [1,2,3,4,5]:\n",
        "  print(\"Yes!!\")\n",
        "\n",
        "print(\"output list using for loop: \", output_list)"
      ],
      "execution_count": 9,
      "outputs": [
        {
          "output_type": "stream",
          "text": [
            "[1, 1]\n",
            "0\n",
            "1\n",
            "2\n",
            "3\n",
            "4\n",
            "0\n",
            "1\n",
            "2\n",
            "3\n",
            "4\n",
            "Yes!!\n",
            "output list using for loop:  [2, 4, 6, 8]\n"
          ],
          "name": "stdout"
        }
      ]
    },
    {
      "cell_type": "code",
      "metadata": {
        "id": "w4yxGWQu0yNQ",
        "colab_type": "code",
        "colab": {}
      },
      "source": [
        ""
      ],
      "execution_count": null,
      "outputs": []
    },
    {
      "cell_type": "code",
      "metadata": {
        "id": "8c040gVxGslC",
        "colab_type": "code",
        "colab": {
          "base_uri": "https://localhost:8080/",
          "height": 34
        },
        "outputId": "79cf9429-d533-45ae-c297-9e2745f14c78"
      },
      "source": [
        "input_list= [1,2,3,4,5,6,7,8,9]\n",
        "\n",
        "list_using_comp = [var if var%2==0 else 0 for var in input_list]\n",
        "\n",
        "print(\"output list using list comprehension:\", list_using_comp)"
      ],
      "execution_count": 10,
      "outputs": [
        {
          "output_type": "stream",
          "text": [
            "output list using list comprehension: [0, 2, 0, 4, 0, 6, 0, 8, 0]\n"
          ],
          "name": "stdout"
        }
      ]
    },
    {
      "cell_type": "code",
      "metadata": {
        "id": "lOLXTHxbIKla",
        "colab_type": "code",
        "colab": {
          "base_uri": "https://localhost:8080/",
          "height": 34
        },
        "outputId": "5bd0de29-6e4e-4d13-d6d6-667d5633d65a"
      },
      "source": [
        "#do list comprehension when you want to put 33 in place of 3\n",
        "#for the rest of the odd numbers put 0\n",
        "#so thatthe output is\n",
        "#[8,2,33,4,8,6,8,8,0]\n",
        "\n",
        "input_list= [1,2,3,4,5,6,7,8,9]\n",
        "\n",
        "list_using_comp = [var if var/3==1 else 0 for var in input_list]\n",
        "\n",
        "#list_using_comp = [(var) if (var%2==0) else (33 if (var==3) else 0) for var in input_list]\n",
        "\n",
        "list_using_comp[2]=33\n",
        "\n",
        "print(\"output list using list comprehension:\", list_using_comp)\n",
        "\n"
      ],
      "execution_count": 21,
      "outputs": [
        {
          "output_type": "stream",
          "text": [
            "output list using list comprehension: [0, 0, 33, 0, 0, 0, 0, 0, 0]\n"
          ],
          "name": "stdout"
        }
      ]
    },
    {
      "cell_type": "code",
      "metadata": {
        "id": "wFOyRDZC-HZz",
        "colab_type": "code",
        "colab": {
          "base_uri": "https://localhost:8080/",
          "height": 34
        },
        "outputId": "8f1bd812-d059-4a8a-d35b-190eab9ef4aa"
      },
      "source": [
        "import time\n",
        "start_time = time.time()\n",
        "for i in range(5):\n",
        "  pass\n",
        "end_time = time.time()\n",
        "print(end_time-start_time)"
      ],
      "execution_count": 24,
      "outputs": [
        {
          "output_type": "stream",
          "text": [
            "4.792213439941406e-05\n"
          ],
          "name": "stdout"
        }
      ]
    },
    {
      "cell_type": "code",
      "metadata": {
        "id": "78Tyxepj_UHG",
        "colab_type": "code",
        "colab": {
          "base_uri": "https://localhost:8080/",
          "height": 231
        },
        "outputId": "1dd85dbc-df08-4584-a73a-38fc41f68423"
      },
      "source": [
        "import time\n",
        "start_time = time.time()  #time till 1970\n",
        "a = lc()\n",
        "end_time = time.time()   \n",
        "print(end_time-start_time)   #time till 1970 + time of lc() - time till 1970\n",
        "start_time = time.time()\n",
        "a = nlc()\n",
        "print(time.time()-start_time)"
      ],
      "execution_count": 26,
      "outputs": [
        {
          "output_type": "error",
          "ename": "NameError",
          "evalue": "ignored",
          "traceback": [
            "\u001b[0;31m---------------------------------------------------------------------------\u001b[0m",
            "\u001b[0;31mNameError\u001b[0m                                 Traceback (most recent call last)",
            "\u001b[0;32m<ipython-input-26-5d504fa44f27>\u001b[0m in \u001b[0;36m<module>\u001b[0;34m()\u001b[0m\n\u001b[1;32m      1\u001b[0m \u001b[0;32mimport\u001b[0m \u001b[0mtime\u001b[0m\u001b[0;34m\u001b[0m\u001b[0;34m\u001b[0m\u001b[0m\n\u001b[1;32m      2\u001b[0m \u001b[0mstart_time\u001b[0m \u001b[0;34m=\u001b[0m \u001b[0mtime\u001b[0m\u001b[0;34m.\u001b[0m\u001b[0mtime\u001b[0m\u001b[0;34m(\u001b[0m\u001b[0;34m)\u001b[0m  \u001b[0;31m#time till 1970\u001b[0m\u001b[0;34m\u001b[0m\u001b[0;34m\u001b[0m\u001b[0m\n\u001b[0;32m----> 3\u001b[0;31m \u001b[0ma\u001b[0m \u001b[0;34m=\u001b[0m \u001b[0mlc\u001b[0m\u001b[0;34m(\u001b[0m\u001b[0;34m)\u001b[0m\u001b[0;34m\u001b[0m\u001b[0;34m\u001b[0m\u001b[0m\n\u001b[0m\u001b[1;32m      4\u001b[0m \u001b[0mend_time\u001b[0m \u001b[0;34m=\u001b[0m \u001b[0mtime\u001b[0m\u001b[0;34m.\u001b[0m\u001b[0mtime\u001b[0m\u001b[0;34m(\u001b[0m\u001b[0;34m)\u001b[0m\u001b[0;34m\u001b[0m\u001b[0;34m\u001b[0m\u001b[0m\n\u001b[1;32m      5\u001b[0m \u001b[0mprint\u001b[0m\u001b[0;34m(\u001b[0m\u001b[0mend_time\u001b[0m\u001b[0;34m-\u001b[0m\u001b[0mstart_time\u001b[0m\u001b[0;34m)\u001b[0m   \u001b[0;31m#time till 1970 + time of lc() - time till 1970\u001b[0m\u001b[0;34m\u001b[0m\u001b[0;34m\u001b[0m\u001b[0m\n",
            "\u001b[0;31mNameError\u001b[0m: name 'lc' is not defined"
          ]
        }
      ]
    },
    {
      "cell_type": "markdown",
      "metadata": {
        "id": "twygy9p8DM_d",
        "colab_type": "text"
      },
      "source": [
        "Set Comprehension"
      ]
    },
    {
      "cell_type": "code",
      "metadata": {
        "id": "88E4sb63DPrg",
        "colab_type": "code",
        "colab": {
          "base_uri": "https://localhost:8080/",
          "height": 34
        },
        "outputId": "74ca3837-1852-4496-fbfb-042a98c3df75"
      },
      "source": [
        "input_list = [1 ,2 ,3 ,4 ,5 ,6 ,7 ,8 ,9 ]\n",
        "\n",
        "set_using_comp = {var for var in input_list if var%2 == 0}\n",
        "\n",
        "print(\"output set using comprhension:\", set_using_comp )"
      ],
      "execution_count": 27,
      "outputs": [
        {
          "output_type": "stream",
          "text": [
            "output set using comprhension: {8, 2, 4, 6}\n"
          ],
          "name": "stdout"
        }
      ]
    },
    {
      "cell_type": "markdown",
      "metadata": {
        "id": "VPAqQB-5D2GI",
        "colab_type": "text"
      },
      "source": [
        "Dictionary Comprehension"
      ]
    },
    {
      "cell_type": "markdown",
      "metadata": {
        "id": "Pa5ci4qfENYy",
        "colab_type": "text"
      },
      "source": [
        "L    L\n",
        "I    I\n",
        "S    S\n",
        "T    T\n",
        "1    2"
      ]
    },
    {
      "cell_type": "code",
      "metadata": {
        "id": "WIKmKkn2D54i",
        "colab_type": "code",
        "colab": {
          "base_uri": "https://localhost:8080/",
          "height": 68
        },
        "outputId": "adb06051-4a83-4c29-af12-9098f70afba3"
      },
      "source": [
        "a = [1,2,4,7]\n",
        "b = [1,2,3]\n",
        "for x,y in zip(a,b):\n",
        " print(x,y)"
      ],
      "execution_count": 29,
      "outputs": [
        {
          "output_type": "stream",
          "text": [
            "1 1\n",
            "2 2\n",
            "4 3\n"
          ],
          "name": "stdout"
        }
      ]
    },
    {
      "cell_type": "code",
      "metadata": {
        "id": "OF0_9mfjFTwa",
        "colab_type": "code",
        "colab": {
          "base_uri": "https://localhost:8080/",
          "height": 51
        },
        "outputId": "6400603b-538a-408f-9ed9-929c620e9697"
      },
      "source": [
        "# what are dictionaries\n",
        "d = dict({'abcd':1, 'zoo':12121})\n",
        "print(d)\n",
        "print(d['abcd'])"
      ],
      "execution_count": 31,
      "outputs": [
        {
          "output_type": "stream",
          "text": [
            "{'abcd': 1, 'zoo': 12121}\n",
            "1\n"
          ],
          "name": "stdout"
        }
      ]
    },
    {
      "cell_type": "code",
      "metadata": {
        "id": "81XTOc-hGSXO",
        "colab_type": "code",
        "colab": {
          "base_uri": "https://localhost:8080/",
          "height": 34
        },
        "outputId": "7a376070-323b-4b9f-c7c7-2d271837bcf3"
      },
      "source": [
        "state = ['Gujarat', 'Maharashtra', 'Rajasthan', 'Delhi']\n",
        "capital = ['Gandhinagar', 'Mumbai', 'jaipur']\n",
        "\n",
        "dict_using_comp = {key:value for (key,value) in zip(state,capital)}\n",
        "\n",
        "print(\"output dictionary using dictionary comprehension:\", dict_using_comp)"
      ],
      "execution_count": 32,
      "outputs": [
        {
          "output_type": "stream",
          "text": [
            "output dictionary using dictionary comprehension: {'Gujarat': 'Gandhinagar', 'Maharashtra': 'Mumbai', 'Rajasthan': 'jaipur'}\n"
          ],
          "name": "stdout"
        }
      ]
    },
    {
      "cell_type": "markdown",
      "metadata": {
        "id": "i1tYZlobHsny",
        "colab_type": "text"
      },
      "source": [
        "Enumerate"
      ]
    },
    {
      "cell_type": "code",
      "metadata": {
        "id": "me9D7cKSHuHc",
        "colab_type": "code",
        "colab": {
          "base_uri": "https://localhost:8080/",
          "height": 153
        },
        "outputId": "5269fd2c-719d-4509-807b-2ff18fb26a6a"
      },
      "source": [
        "ml = ['ricky','cuchiee','bunny','kitty']\n",
        "\n",
        "#respected output\n",
        "# 1 ricky\n",
        "# 2 cuchiee\n",
        "# 3 bunny\n",
        "# 4 kitty\n",
        "\n",
        "i = 0\n",
        "for k in ml:\n",
        "  print(i+1,k)\n",
        "  i+=1\n",
        "\n",
        "#enumerate method\n",
        "\n",
        "for i,x in enumerate(ml):\n",
        "  print(i+1, x)\n"
      ],
      "execution_count": 34,
      "outputs": [
        {
          "output_type": "stream",
          "text": [
            "1 ricky\n",
            "2 cuchiee\n",
            "3 bunny\n",
            "4 kitty\n",
            "1 ricky\n",
            "2 cuchiee\n",
            "3 bunny\n",
            "4 kitty\n"
          ],
          "name": "stdout"
        }
      ]
    },
    {
      "cell_type": "code",
      "metadata": {
        "id": "guZsCx3lJE4O",
        "colab_type": "code",
        "colab": {
          "base_uri": "https://localhost:8080/",
          "height": 102
        },
        "outputId": "01ebaccc-c3c3-4ce4-d698-7eeb5eafc710"
      },
      "source": [
        "#LIST AS STACK\n",
        "stack = [3,4,5]\n",
        "print(stack)\n",
        "stack.append(6)\n",
        "print(stack)\n",
        "stack.append(7)\n",
        "print(stack)\n",
        "stack.pop()\n",
        "print(stack)\n",
        "#to pop element 3 from start\n",
        "stack.reverse()\n",
        "stack.pop()\n",
        "stack.reverse()\n",
        "print(stack)\n",
        "\n"
      ],
      "execution_count": 37,
      "outputs": [
        {
          "output_type": "stream",
          "text": [
            "[3, 4, 5]\n",
            "[3, 4, 5, 6]\n",
            "[3, 4, 5, 6, 7]\n",
            "[3, 4, 5, 6]\n",
            "[4, 5, 6]\n"
          ],
          "name": "stdout"
        }
      ]
    },
    {
      "cell_type": "code",
      "metadata": {
        "id": "2E0Cj2jgKMov",
        "colab_type": "code",
        "colab": {}
      },
      "source": [
        "#LIST AS QUEUE\n",
        "queue = [1,2,3]\n",
        "print(queue)\n",
        "queue.append(4)\n",
        "print(queue)"
      ],
      "execution_count": null,
      "outputs": []
    },
    {
      "cell_type": "code",
      "metadata": {
        "id": "lIorKDvRK7gu",
        "colab_type": "code",
        "colab": {}
      },
      "source": [
        "#LIST vs TUPLE\n",
        "#List - can be changed later on\n",
        "#Tuple - can not be changed more than once\n",
        "\n",
        "ml = [0]*10\n",
        "ml = tuple(ml)\n",
        "ml[0] = 100\n",
        "print(ml)\n"
      ],
      "execution_count": null,
      "outputs": []
    },
    {
      "cell_type": "code",
      "metadata": {
        "id": "nZ0tvcf1MVUV",
        "colab_type": "code",
        "colab": {}
      },
      "source": [
        "import datetime\n",
        "format = '%Y '"
      ],
      "execution_count": null,
      "outputs": []
    },
    {
      "cell_type": "markdown",
      "metadata": {
        "id": "2DhxbApANjqr",
        "colab_type": "text"
      },
      "source": [
        "Classes and Inheritance"
      ]
    },
    {
      "cell_type": "markdown",
      "metadata": {
        "id": "HtTTGZsJNqKv",
        "colab_type": "text"
      },
      "source": [
        "Underscore"
      ]
    },
    {
      "cell_type": "code",
      "metadata": {
        "id": "BZtg7dtyNjEz",
        "colab_type": "code",
        "colab": {}
      },
      "source": [
        "def fun():\n",
        "    return 1,2,3,4\n",
        "\n",
        "  a,_,_,_ = fun()\n",
        "\n",
        "  print(a)"
      ],
      "execution_count": null,
      "outputs": []
    },
    {
      "cell_type": "code",
      "metadata": {
        "id": "D3BCbiHbN8wA",
        "colab_type": "code",
        "colab": {}
      },
      "source": [
        "def fun(input_, class_):\n",
        "\n",
        "  print(input_,class_)\n",
        "\n",
        "  fun(1,2)"
      ],
      "execution_count": null,
      "outputs": []
    }
  ]
}